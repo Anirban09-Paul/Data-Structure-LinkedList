{
 "cells": [
  {
   "cell_type": "markdown",
   "id": "f8c9d7f4",
   "metadata": {},
   "source": [
    "SinglyLinkedList Data Print"
   ]
  },
  {
   "cell_type": "code",
   "execution_count": 79,
   "id": "4ba74d6a",
   "metadata": {},
   "outputs": [
    {
     "name": "stdout",
     "output_type": "stream",
     "text": [
      "Linked List is Empty\n"
     ]
    }
   ],
   "source": [
    "class Node:  #it will create new Node with data field\n",
    "    def __init__(self,data):\n",
    "        self.data=data\n",
    "        self.ref=None\n",
    "        \n",
    "class LinkedList:   # here linked list head set to null because at the starting no data will be formed\n",
    "    def __init__(self):\n",
    "        self.head=None\n",
    "    def print_LL(self):   \n",
    "        if self.head is None:  # if head data is null then linked list is empty\n",
    "            print(\"Linked List is Empty\")\n",
    "        else:     # here we assign self.head set to n\n",
    "            n=self.head\n",
    "            print(n.data)  # now the head data if linked list is not empty\n",
    "            n=n.ref  #ref of head set change to next node\n",
    "            \n",
    "LL1= LinkedList()\n",
    "LL1.print_LL()\n",
    "            "
   ]
  },
  {
   "cell_type": "markdown",
   "id": "893a3afd",
   "metadata": {},
   "source": [
    "Adding Element at the Beginning"
   ]
  },
  {
   "cell_type": "code",
   "execution_count": 82,
   "id": "bf2d7073",
   "metadata": {},
   "outputs": [
    {
     "name": "stdout",
     "output_type": "stream",
     "text": [
      "30\n"
     ]
    }
   ],
   "source": [
    "class Node:\n",
    "    def __init__(self,data):\n",
    "        self.data=data\n",
    "        self.ref=None\n",
    "        \n",
    "class LinkedList:\n",
    "    def __init__(self):\n",
    "        self.head=None\n",
    "    def print_LL(self):\n",
    "        if self.head is None:\n",
    "            print(\"Linked List is Empty\")\n",
    "        else:\n",
    "            n=self.head\n",
    "            print(n.data)\n",
    "            n=n.ref\n",
    "            \n",
    "    def add_begin(self,data):\n",
    "        new_node=Node(data) #creating the new node with node class and data field\n",
    "        new_node.ref =self.head # linked with new node to previous head node and change the reference of new node  \n",
    "        self.head = new_node # now new node is the head of linked list\n",
    "        \n",
    "        \n",
    "LL1=LinkedList()\n",
    "LL1.add_begin(10)\n",
    "LL1.add_begin(20)\n",
    "LL1.add_begin(30)\n",
    "LL1.print_LL()"
   ]
  },
  {
   "cell_type": "markdown",
   "id": "74cb939d",
   "metadata": {},
   "source": [
    "Adding Element at the End"
   ]
  },
  {
   "cell_type": "code",
   "execution_count": 96,
   "id": "d92aa093",
   "metadata": {},
   "outputs": [
    {
     "name": "stdout",
     "output_type": "stream",
     "text": [
      "20 --> 10 --> 30 --> 40 --> "
     ]
    }
   ],
   "source": [
    "class Node:\n",
    "    def __init__(self,data):\n",
    "        self.data=data\n",
    "        self.ref=None\n",
    "        \n",
    "class LinkedList:\n",
    "    def __init__(self):\n",
    "        self.head=None\n",
    "    def print_LL(self):\n",
    "        if self.head is None:\n",
    "            print(\"Linked List is Empty\")\n",
    "        else:\n",
    "            n=self.head\n",
    "            while n is not None:\n",
    "                print(n.data,\"-->\",end=' ')\n",
    "                n=n.ref\n",
    "            \n",
    "    def add_begin(self,data):\n",
    "        new_node=Node(data) #creating the new node with node class and data field\n",
    "        new_node.ref =self.head # linked with new node to previous head node and change the reference of new node  \n",
    "        self.head = new_node # now new node is the head of linked list\n",
    "        \n",
    "    def add_end(self,data):\n",
    "        new_node =Node(data)  #at first we created a new node\n",
    "        if self.head is None:  # after creating new node it will check wheather there are any previous node or not if not\n",
    "            self.head=new_node  # then new node will consider as head of linked list\n",
    "        else:\n",
    "            n=self.head      #now we are giving a name 'n' for self.head\n",
    "            while n.ref is not None:  # now how to know which one is the last node of linked list , so to check this \n",
    "                n=n.ref    # we are using while loop , it will check if ref of last node is zero then it will linked \n",
    "            n.ref=new_node # new node to last node ref\n",
    "    \n",
    "LL1 = LinkedList()\n",
    "LL1.add_begin(10)\n",
    "LL1.add_end(30)\n",
    "LL1.add_begin(20)\n",
    "LL1.add_end(40)\n",
    "LL1.print_LL()"
   ]
  },
  {
   "cell_type": "markdown",
   "id": "8bc4186a",
   "metadata": {},
   "source": [
    "Adding Element after Given Node"
   ]
  },
  {
   "cell_type": "code",
   "execution_count": 7,
   "id": "12fb4d20",
   "metadata": {},
   "outputs": [
    {
     "name": "stdout",
     "output_type": "stream",
     "text": [
      "Length of the linked list is:  4\n",
      "20 --> 10 --> 30 --> 40 --> "
     ]
    }
   ],
   "source": [
    "class Node:\n",
    "    def __init__(self,data):\n",
    "        self.data=data\n",
    "        self.ref=None\n",
    "        \n",
    "class LinkedList:\n",
    "    def __init__(self):\n",
    "        self.head=None\n",
    "    def print_LL(self):\n",
    "        if self.head is None:\n",
    "            print(\"Linked List is Empty\")\n",
    "        else:\n",
    "            n=self.head\n",
    "            while n is not None:\n",
    "                print(n.data,\"-->\",end=' ')\n",
    "                n=n.ref\n",
    "            \n",
    "    def add_begin(self,data):\n",
    "        new_node=Node(data) #creating the new node with node class and data field\n",
    "        new_node.ref =self.head # linked with new node to previous head node and change the reference of new node  \n",
    "        self.head = new_node # now new node is the head of linked list\n",
    "        \n",
    "    def add_end(self,data):\n",
    "        new_node =Node(data)  #at first we created a new node\n",
    "        if self.head is None:  # after creating new node it will check wheather there are any previous node or not if not\n",
    "            self.head=new_node  # then new node will consider as head of linked list\n",
    "        else:\n",
    "            n=self.head      #now we are giving a name 'n' for self.head\n",
    "            while n.ref is not None:  # now how to know which one is the last node of linked list , so to check this \n",
    "                n=n.ref    # we are using while loop , it will check if ref of last node is zero then it will linked \n",
    "            n.ref=new_node # new node to last node ref\n",
    "    \n",
    "    def add_mid(self,data,x):  # here we are taking extra parameter x, it will work as where i add new node \n",
    "        n= self.head    # assign self.head as 'n'\n",
    "        while n is not None:  # now we are using while loop where n is not zero, then it will check conditional statement \n",
    "            if x==n.data:     # if location of x is equal to current data, if yes condition satisfied either it will move \n",
    "                break         # to next node, now cuurent node change to next node again if condition check wheather x is equal\n",
    "            else:             # to current node \n",
    "                n=n.ref\n",
    "        if n is None:  # if n is zero then print this message\n",
    "            print(\"node is not present in LL\")\n",
    "        else:      # either create a new node using node class\n",
    "            new_node=Node(data)\n",
    "            new_node.ref=n.ref   # now new node ref to n node ref means this are linked with each other\n",
    "            n.ref=new_node    # after that new node ref will be n ref\n",
    "            \n",
    "    def get_length(self):\n",
    "        count=0    # we initialize the count value to zero, it will count how many nodes in the linked list\n",
    "        n=self.head  #again i'm calling self.head as 'n'\n",
    "        while n is not None: #here we are using while loop because i dont know how many times it will iterate, so when head\n",
    "            count+=1       # of linked list is not zero then it will count nd after that it will increase the count value\n",
    "            n=n.ref        # then we fixed the ref value to next node\n",
    "        return count       # return the count value\n",
    "    \n",
    "    def delete_begin(self):\n",
    "        if self.head is None: # at first it will check wheather head is empty or not \n",
    "            print(\"LL is empty so i can't delete nodes!\")\n",
    "        else:         # if head is not empty we refer the head to next node, first node head contain ref of second node so we \n",
    "            self.head=self.head.ref  # put the the reaf of head to self.head\n",
    "            \n",
    "    def delete_end(self):\n",
    "        if self.head is None: # at first it will check wheather head is empty or not \n",
    "            print(\"LL is empty so i can't delte nodes!\")\n",
    "        elif self.head.ref is None:\n",
    "            self.head= None\n",
    "        else:    \n",
    "            n=self.head  #self.head is 'n'\n",
    "            while n.ref.ref is not None:  #we are deleting last node so how to know delete this when second last node tends to null\n",
    "                    n=n.ref               # means second last node ref is null so it will automatically delete last node\n",
    "            n.ref=None                    #now how to get second last node from traversing method so we are checking n.ref.ref is null\n",
    "                                       # means n.ref is last node data and n.ref.ref is null means last node is zero.\n",
    "                                        #now n.ref is null means second last node ref is zero so last node delete \n",
    "\n",
    "    def delete_mid(self,x):\n",
    "        if self.head is None:\n",
    "            print(\"you can't delete the node at the middle\")  # at first it will check linked list is empty or not\n",
    "            return\n",
    "        if x==self.head.ref:    #here it will again check if our given no x is equal to first node or not. if yes condition\n",
    "            self.head= self.head.ref  # will satisfied and head of first node change to second node so first node is delete.\n",
    "            return\n",
    "        n=self.head  # now we are assign self.head as 'n'\n",
    "        while n.ref is not None:  # while n.ref is not null means next is null or not\n",
    "            if x==n.ref.data:  # then x will be equal to next node data .if it's true we found the node which one we would delete\n",
    "                break\n",
    "            n=n.ref  # either we increment the ref or next node\n",
    "        if n.ref is None:   \n",
    "            print(\"node is not present!\")\n",
    "        else:\n",
    "            n.ref=n.ref.ref # to delete the node n.ref is equal to n.ref.ref means next to next node.\n",
    "                    \n",
    "LL1 = LinkedList()\n",
    "LL1.add_begin(10)\n",
    "LL1.add_end(30)\n",
    "LL1.add_mid(200,10)\n",
    "LL1.add_begin(20)\n",
    "LL1.add_end(40)\n",
    "# LL1.delete_begin()\n",
    "# LL1.delete_end()\n",
    "LL1.delete_mid(200)\n",
    "print('Length of the linked list is: ',LL1.get_length())\n",
    "LL1.print_LL()"
   ]
  }
 ],
 "metadata": {
  "kernelspec": {
   "display_name": "Python 3",
   "language": "python",
   "name": "python3"
  },
  "language_info": {
   "codemirror_mode": {
    "name": "ipython",
    "version": 3
   },
   "file_extension": ".py",
   "mimetype": "text/x-python",
   "name": "python",
   "nbconvert_exporter": "python",
   "pygments_lexer": "ipython3",
   "version": "3.9.4"
  }
 },
 "nbformat": 4,
 "nbformat_minor": 5
}
