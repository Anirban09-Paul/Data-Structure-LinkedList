{
 "cells": [
  {
   "cell_type": "markdown",
   "id": "45d0777a",
   "metadata": {},
   "source": [
    "Doubly Linked List Data Print"
   ]
  },
  {
   "cell_type": "code",
   "execution_count": 11,
   "id": "059c218c",
   "metadata": {},
   "outputs": [
    {
     "name": "stdout",
     "output_type": "stream",
     "text": [
      "Empty Linked List!\n",
      "Empty Linked List!\n"
     ]
    }
   ],
   "source": [
    "class Node:\n",
    "    def __init__(self,data):\n",
    "        self.data=data\n",
    "        self.nref=None #for doubly linked list nref means next node ref \n",
    "        self.pref=None  # pref means previous node ref\n",
    "        \n",
    "class doubly_LL:   #this is forward travering mode\n",
    "    def __init__(self):\n",
    "        self.head=None  #initialy head value to zero\n",
    "        \n",
    "    def Print_LL_Forward(self):\n",
    "        if self.head is None:  #if head is null then print this message\n",
    "            print(\"Empty Linked List!\")\n",
    "        else:\n",
    "            n=self.head\n",
    "            while n is not None:\n",
    "                print(n.data, \"-->\",end=' ')\n",
    "                n=n.nref\n",
    "    def Print_LL_Reverse(self):\n",
    "        if self.head is None:\n",
    "            print(\"Empty Linked List!\")\n",
    "        else:\n",
    "            n=self.head\n",
    "            while n.nref is not None:\n",
    "                n=n.pref\n",
    "            while n is not None:\n",
    "                print(n.data,\"-->\",end=' ')\n",
    "                n=n.pref\n",
    "                \n",
    "dl1=doubly_LL()\n",
    "dl1.Print_LL_Forward()\n",
    "dl1.Print_LL_Reverse()"
   ]
  },
  {
   "cell_type": "markdown",
   "id": "3e7bf342",
   "metadata": {},
   "source": [
    "Insertion when linked list is empty"
   ]
  },
  {
   "cell_type": "code",
   "execution_count": 12,
   "id": "7da4ee27",
   "metadata": {},
   "outputs": [],
   "source": [
    "def insert_empty(self,data):\n",
    "    if self.head is None:\n",
    "        new_node=Node(data)\n",
    "        self.head=new_node\n",
    "    else:\n",
    "        print(\"Linked List is not empty!!!\")"
   ]
  },
  {
   "cell_type": "markdown",
   "id": "e193c4bd",
   "metadata": {},
   "source": [
    "Add Begin at doubly linked list"
   ]
  },
  {
   "cell_type": "code",
   "execution_count": 13,
   "id": "01d84907",
   "metadata": {},
   "outputs": [],
   "source": [
    "def add_begin(self,data):\n",
    "    new_node=Node(data)\n",
    "    if self.head is None:\n",
    "        self.head=new_node\n",
    "    else:\n",
    "        new_node.nref=self.head\n",
    "        self.head.pref=new_node\n",
    "        self.head=new=new_node"
   ]
  },
  {
   "cell_type": "markdown",
   "id": "440c945d",
   "metadata": {},
   "source": [
    "Add End at doubly linked list"
   ]
  },
  {
   "cell_type": "code",
   "execution_count": 6,
   "id": "cca37e21",
   "metadata": {},
   "outputs": [],
   "source": [
    "def add_end(self,data):\n",
    "    new_node=Node(data)\n",
    "    if self.head is None:\n",
    "        self.head=new_node\n",
    "    else:\n",
    "        n=self.head\n",
    "        while n.nref is not None:\n",
    "            n=n.nref\n",
    "        n.nref=new_node\n",
    "        new_node.pref=self.head"
   ]
  },
  {
   "cell_type": "markdown",
   "id": "e8b94808",
   "metadata": {},
   "source": [
    "ADD ALL METHOD TO FINAL CODE"
   ]
  },
  {
   "cell_type": "code",
   "execution_count": null,
   "id": "3e12eedf",
   "metadata": {},
   "outputs": [],
   "source": [
    "class Node:\n",
    "    def __init__(self,data):\n",
    "        self.data=data\n",
    "        self.nref=None #for doubly linked list nref means next node ref \n",
    "        self.pref=None  # pref means previous node ref\n",
    "        \n",
    "class doubly_LL:   #this is forward travering mode\n",
    "    def __init__(self):\n",
    "        self.head=None  #initialy head value to zero\n",
    "        \n",
    "    def Print_LL_Forward(self):\n",
    "        if self.head is None:  #if head is null then print this message\n",
    "            print(\"Empty Linked List!\")\n",
    "        else:\n",
    "            n=self.head\n",
    "            while n is not None:\n",
    "                print(n.data, \"-->\",end=' ')\n",
    "                n=n.nref\n",
    "    def Print_LL_Reverse(self):\n",
    "        if self.head is None:\n",
    "            print(\"Empty Linked List!\")\n",
    "        else:\n",
    "            n=self.head\n",
    "            while self.head.nref is not None:\n",
    "                n=self.head.pref\n",
    "            while n is not None:\n",
    "                print(n.data,\"-->\",end=' ')\n",
    "                n=n.pref\n",
    "                \n",
    "    def add_begin(self,data):\n",
    "        new_node=Node(data)\n",
    "        if self.head is None:\n",
    "            self.head=new_node\n",
    "        else:\n",
    "            new_node.nref=self.head\n",
    "            self.head.pref=new_node\n",
    "            self.head=new=new_node\n",
    "        \n",
    "#     def add_end(self,data):\n",
    "#         new_node = Node(data)\n",
    "#         if self.head is None:\n",
    "#             self.head = new_node\n",
    "#         else:\n",
    "#             n = self.head\n",
    "#             while n.nref is not None:\n",
    "#                 n = n.nref\n",
    "#             n.nref = new_node\n",
    "#             new_node.pref = n\n",
    "\n",
    "    def delete_begin(self):\n",
    "        if self.head is None:  # if linked list is empty no node is available then print out this message\n",
    "            print(\"Doubly Linked List is Empty!!\")\n",
    "            return\n",
    "        if self.head.nref is None:   # if linked list contain only one node then it will delete after that this print message will execute\n",
    "            self.head=None\n",
    "            print(\"We are delete the node after no node is available!!\")\n",
    "        else:   # if linked list more than one element it will be two or three so it will delete one by one\n",
    "            self.head=self.head.nref\n",
    "            self.head.pref=None\n",
    "            print(\"This Doubly Linked List have more than one node, so we are delete one by one!\")\n",
    "            \n",
    "            \n",
    "    def delete_end(self):\n",
    "        if self.head is None:\n",
    "            print(\"DLL is Empty!!\")\n",
    "            return\n",
    "        if self.head.nref is None:\n",
    "            self.head=None\n",
    "            print(\"We are delete the node after that no node is available!!\")\n",
    "        else:\n",
    "            while self.head.nref is not None:  #when next node ref is not null it will traverse\n",
    "                self.head.pref=self.head  # after that wehn we find the last node now we convert head to previous node\n",
    "                self.head.nref=None  # now to delte the last node nref will be null\n",
    "                print(\"This DLL have more than one node so we are deleting the last node one by one!!\")\n",
    "            \n",
    "dl1=doubly_LL()\n",
    "dl1.add_begin(10)\n",
    "dl1.add_begin(20)\n",
    "dl1.add_begin(30)\n",
    "dl1.add_begin(40)\n",
    "# dl1.add_end(30)\n",
    "# dl1.add_end(40)\n",
    "# dl1.delete_begin()\n",
    "# dl1.delete_end()\n",
    "dl1.Print_LL_Forward()\n",
    "dl1.Print_LL_Reverse()"
   ]
  },
  {
   "cell_type": "markdown",
   "id": "4b785675",
   "metadata": {},
   "source": [
    "Delete Method at Begin"
   ]
  },
  {
   "cell_type": "code",
   "execution_count": null,
   "id": "d9aee66a",
   "metadata": {},
   "outputs": [],
   "source": [
    "def delete_begin(self):\n",
    "    if self.head is None:  # if linked list is empty no node is available then print out this message\n",
    "        print(\"Doubly Linked List is Empty!!\")\n",
    "        return\n",
    "    if self.head.nref is None:   # if linked list contain only one node then it will delete after that this print message will execute\n",
    "        self.head=None\n",
    "        print(\"We are delete the node after no node is available!!\")\n",
    "    else:   # if linked list more than one element it will be two or three so it will delete one by one\n",
    "        self.head=self.head.nref\n",
    "        self.head.pref=None\n",
    "        print(\"This Doubly Linked List have more than one node, so we are delete one by one!\")"
   ]
  },
  {
   "cell_type": "markdown",
   "id": "ae543004",
   "metadata": {},
   "source": [
    "Delete Method at End"
   ]
  },
  {
   "cell_type": "code",
   "execution_count": null,
   "id": "3bd728a7",
   "metadata": {},
   "outputs": [],
   "source": [
    "def delete_end(self):\n",
    "    if self.head is None:\n",
    "        print(\"DLL is Empty!!\")\n",
    "        return\n",
    "    if self.head.nref is None:\n",
    "        self.head=None\n",
    "        print(\"We are delete the node after that no node is available!!\")\n",
    "    else:\n",
    "        while self.head.nref is not None:\n",
    "            self.head.pref=self.head\n",
    "            self.head.nref=None\n",
    "            print(\"This DLL have more than one node so we are deleting the last node one by one!!\")"
   ]
  },
  {
   "cell_type": "code",
   "execution_count": null,
   "id": "69b7f9dd",
   "metadata": {},
   "outputs": [],
   "source": []
  }
 ],
 "metadata": {
  "kernelspec": {
   "display_name": "Python 3",
   "language": "python",
   "name": "python3"
  },
  "language_info": {
   "codemirror_mode": {
    "name": "ipython",
    "version": 3
   },
   "file_extension": ".py",
   "mimetype": "text/x-python",
   "name": "python",
   "nbconvert_exporter": "python",
   "pygments_lexer": "ipython3",
   "version": "3.9.4"
  }
 },
 "nbformat": 4,
 "nbformat_minor": 5
}
